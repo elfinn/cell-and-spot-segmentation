{
 "cells": [
  {
   "cell_type": "code",
   "execution_count": null,
   "metadata": {
    "scrolled": true
   },
   "outputs": [],
   "source": [
    "from models.swarm_job import SwarmJob, RunStrategy\n",
    "from pathlib import Path\n",
    "from generate_all_spot_positions import GenerateAllSpotPositionsJob\n",
    "from generate_all_spot_result_lines import GenerateAllSpotResultLinesJob\n",
    "from generate_spot_results_file import GenerateSpotResultsFileJob"
   ]
  },
  {
   "cell_type": "code",
   "execution_count": null,
   "metadata": {
    "scrolled": true
   },
   "outputs": [],
   "source": [
    "# Set strategy here -- \"RunStrategy.SWARM\" is running on Biowulf/with swarm in parallel, \"RunStrategy.LOCAL\" is testing a single well/image without parallelization\n",
    "SwarmJob.run_strategy = RunStrategy.SWARM"
   ]
  },
  {
   "cell_type": "code",
   "execution_count": null,
   "metadata": {
    "scrolled": true
   },
   "outputs": [],
   "source": [
    "# Find your files!\n",
    "source_cropped_images = \"/data/finne/20210514_StemCells/Results/cell_crops/\"\n",
    "source_nuclear_masks = \"/data/finne/20210514_StemCells/Results/nuclear_masks/\"\n",
    "source_distance_transforms = \"/data/finne/20210514_StemCells/Results/distance_transforms/\"\n",
    "\n",
    "results_directory = Path(\"/data/finne/20210514_StemCells/Results/\")\n",
    "spot_positions_directory = results_directory / \"spot_positions/\"\n",
    "spot_result_lines_directory = results_directory / \"spot_result_lines/\"\n",
    "\n",
    "config_file = \"/data/finne/20210514_StemCells/Results/cell_crops/spot_seg_config.json\""
   ]
  },
  {
   "cell_type": "code",
   "execution_count": null,
   "metadata": {
    "scrolled": true
   },
   "outputs": [],
   "source": [
    "# Run the spot segmentation! \n",
    "# If you don't yet have a config file, use the test_spot_segmentation.ipynb notebook to try some parameters and generate a config file!\n",
    "\n",
    "GenerateAllSpotPositionsJob(source_cropped_images, spot_positions_directory, config_file).run()"
   ]
  },
  {
   "cell_type": "code",
   "execution_count": null,
   "metadata": {
    "scrolled": true
   },
   "outputs": [],
   "source": [
    "# From spot segmentations, find x, y, z, and r positions!\n",
    "GenerateAllSpotResultLinesJob(spot_positions_directory, source_cropped_images, \n",
    "                              source_distance_transforms, source_nuclear_masks, \n",
    "                              spot_result_lines_directory).run()"
   ]
  },
  {
   "cell_type": "code",
   "execution_count": null,
   "metadata": {
    "scrolled": false
   },
   "outputs": [],
   "source": [
    "# Find and merge all spot positions into a single file!\n",
    "GenerateSpotResultsFileJob(spot_result_lines_directory, results_directory).run()"
   ]
  },
  {
   "cell_type": "code",
   "execution_count": null,
   "metadata": {
    "scrolled": true
   },
   "outputs": [],
   "source": []
  }
 ],
 "metadata": {
  "kernelspec": {
   "display_name": "elizabeth-pipeline",
   "language": "python",
   "name": "elizabeth-pipeline"
  },
  "language_info": {
   "codemirror_mode": {
    "name": "ipython",
    "version": 3
   },
   "file_extension": ".py",
   "mimetype": "text/x-python",
   "name": "python",
   "nbconvert_exporter": "python",
   "pygments_lexer": "ipython3",
   "version": "3.8.5"
  }
 },
 "nbformat": 4,
 "nbformat_minor": 2
}
