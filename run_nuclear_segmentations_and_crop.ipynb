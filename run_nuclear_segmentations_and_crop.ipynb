{
 "cells": [
  {
   "cell_type": "code",
   "execution_count": null,
   "metadata": {},
   "outputs": [],
   "source": [
    "from models.swarm_job import SwarmJob, RunStrategy\n",
    "from pathlib import Path\n",
    "from generate_all_maximum_projections import GenerateAllMaximumProjectionsJob\n",
    "from generate_all_nuclear_segmentations import GenerateAllNuclearSegmentationsJob\n",
    "from generate_all_nuclear_masks import GenerateAllNuclearMasksJob\n",
    "from generate_all_cropped_cell_images import GenerateAllCroppedCellImagesJob\n",
    "from generate_all_distance_transforms import GenerateAllDistanceTransformsJob"
   ]
  },
  {
   "cell_type": "code",
   "execution_count": null,
   "metadata": {},
   "outputs": [],
   "source": [
    "# Set strategy here -- \"RunStrategy.SWARM\" is running on Biowulf/with swarm in parallel, \"RunStrategy.LOCAL\" is testing a single well/image without parallelization\n",
    "SwarmJob.run_strategy = RunStrategy.SWARM"
   ]
  },
  {
   "cell_type": "code",
   "execution_count": null,
   "metadata": {},
   "outputs": [],
   "source": [
    "# Set your file system variables here: where are your images and what folders would you like to output to?\n",
    "\n",
    "source_images = \"/data/finne/20210514_StemCells/BC_20201214/\"\n",
    "results_directory = Path(\"/data/finne/20210514_StemCells/Results/\")\n",
    "MIP_directory = results_directory / \"MIPs_and_z_centers/\"\n",
    "nuclear_segmentations_directory = results_directory / \"nuclear_segmentations/\" \n",
    "nuclear_masks_directory = results_directory / \"nuclear_masks/\"\n",
    "distance_transforms_directory = results_directory / \"distance_transforms/\"\n",
    "cell_crops_directory = results_directory / \"cell_crops/\"\n",
    "\n",
    "# CellPose takes as an argument the diameter of the cells. Looking at some images and rounding up works fairly well to start.\n",
    "# If you're not sure and want to test a few options, first run the maximum projection script and then use the test_nuclear_segmentation.ipynb notebook.\n",
    "\n",
    "diameter = 100"
   ]
  },
  {
   "cell_type": "code",
   "execution_count": null,
   "metadata": {
    "scrolled": true
   },
   "outputs": [],
   "source": [
    "# Maximum projections!\n",
    "GenerateAllMaximumProjectionsJob(source_images, MIP_directory).run()"
   ]
  },
  {
   "cell_type": "code",
   "execution_count": null,
   "metadata": {
    "scrolled": true
   },
   "outputs": [],
   "source": [
    "# Nuclear segmentations!\n",
    "GenerateAllNuclearSegmentationsJob(MIP_directory, nuclear_segmentations_directory, diameter).run()"
   ]
  },
  {
   "cell_type": "code",
   "execution_count": null,
   "metadata": {
    "scrolled": true
   },
   "outputs": [],
   "source": [
    "# Crop nuclear segmentations for individual nuclear masks!\n",
    "GenerateAllNuclearMasksJob(nuclear_segmentations_directory, nuclear_masks_directory).run()"
   ]
  },
  {
   "cell_type": "code",
   "execution_count": null,
   "metadata": {
    "scrolled": true
   },
   "outputs": [],
   "source": [
    "# Calculate distance transform for radial position!\n",
    "GenerateAllDistanceTransformsJob(nuclear_masks_directory, distance_transforms_directory).run()"
   ]
  },
  {
   "cell_type": "code",
   "execution_count": null,
   "metadata": {
    "scrolled": true
   },
   "outputs": [],
   "source": [
    "# Crop cell images using nuclear masks!\n",
    "GenerateAllCroppedCellImagesJob(MIP_directory, nuclear_masks_directory, cell_crops_directory).run()"
   ]
  },
  {
   "cell_type": "code",
   "execution_count": null,
   "metadata": {},
   "outputs": [],
   "source": []
  }
 ],
 "metadata": {
  "kernelspec": {
   "display_name": "elizabeth-pipeline",
   "language": "python",
   "name": "elizabeth-pipeline"
  },
  "language_info": {
   "codemirror_mode": {
    "name": "ipython",
    "version": 3
   },
   "file_extension": ".py",
   "mimetype": "text/x-python",
   "name": "python",
   "nbconvert_exporter": "python",
   "pygments_lexer": "ipython3",
   "version": "3.8.5"
  }
 },
 "nbformat": 4,
 "nbformat_minor": 4
}
