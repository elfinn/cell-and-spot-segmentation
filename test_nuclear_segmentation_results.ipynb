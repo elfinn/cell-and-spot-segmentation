{
 "metadata": {
  "language_info": {
   "codemirror_mode": {
    "name": "ipython",
    "version": 3
   },
   "file_extension": ".py",
   "mimetype": "text/x-python",
   "name": "python",
   "nbconvert_exporter": "python",
   "pygments_lexer": "ipython3",
   "version": "3.8.7-final"
  },
  "orig_nbformat": 2,
  "kernelspec": {
   "name": "python3",
   "display_name": "Python 3",
   "language": "python"
  }
 },
 "nbformat": 4,
 "nbformat_minor": 2,
 "cells": [
  {
   "source": [
    "#import some tools that we will use\n",
    "import skimage.io\n",
    "import skimage.measure\n",
    "import numpy\n",
    "import matplotlib.pyplot as plt\n",
    "import cellpose.plot\n",
    "import generate_nuclear_segmentation\n",
    "\n",
    "import models.labels"
   ],
   "cell_type": "code",
   "metadata": {},
   "execution_count": null,
   "outputs": []
  },
  {
   "cell_type": "code",
   "execution_count": null,
   "metadata": {},
   "outputs": [],
   "source": [
    "#define paths to image and segmentation directory (directory unused??)\n",
    "DAPI_image_path = \"C:\\\\Users\\\\finne\\\\Documents\\\\python\\\\MaxProjections\\\\AssayPlate_PerkinElmer_CellCarrier-384_B07_T0001F007L01A01ZXXC01_maximum_projection.tif\"\n",
    "# nuclear_mask_dir = \"C:\\\\Users\\\\finne\\\\Documents\\\\python\\\\seg_results\\\\\"\n",
    "\n",
    "nuclear_mask_dir = \"/Users/kevin/Desktop/generate_nuclear_segmentation_output/\""
   ]
  },
  {
   "cell_type": "code",
   "execution_count": null,
   "metadata": {},
   "outputs": [],
   "source": [
    "#import and segment image\n",
    "DAPI_image = skimage.io.imread(DAPI_image_path)\n",
    "\n",
    "nuclear_mask = generate_nuclear_segmentation.GenerateNuclearSegmentationJob(DAPI_image_path, nuclear_mask_dir, 100)\n",
    "segmentation_result = nuclear_mask.cellpose_filtered\n",
    "\n",
    "distinct_labels = models.labels.distinct_labels(segmentation_result)"
   ]
  },
  {
   "cell_type": "code",
   "execution_count": null,
   "metadata": {},
   "outputs": [],
   "source": [
    "#display the things\n",
    "plt.imshow(DAPI_image)\n",
    "contour_result = plt.contourf(segmentation_result, levels=distinct_labels, alpha=0.2)\n",
    "plt.show()\n"
   ]
  },
  {
   "cell_type": "code",
   "execution_count": null,
   "metadata": {},
   "outputs": [],
   "source": []
  }
 ]
}