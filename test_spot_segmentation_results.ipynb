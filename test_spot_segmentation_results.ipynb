{
 "metadata": {
  "language_info": {
   "codemirror_mode": {
    "name": "ipython",
    "version": 3
   },
   "file_extension": ".py",
   "mimetype": "text/x-python",
   "name": "python",
   "nbconvert_exporter": "python",
   "pygments_lexer": "ipython3",
   "version": "3.8.7-final"
  },
  "orig_nbformat": 2,
  "kernelspec": {
   "name": "python3",
   "display_name": "Python 3",
   "language": "python"
  }
 },
 "nbformat": 4,
 "nbformat_minor": 2,
 "cells": [
  {
   "cell_type": "code",
   "execution_count": null,
   "metadata": {},
   "outputs": [],
   "source": [
    "#import some tools that we will use\n",
    "import skimage.io\n",
    "import skimage.measure\n",
    "import skimage.feature\n",
    "import skimage.segmentation\n",
    "from skimage.morphology import disk\n",
    "import scipy.ndimage\n",
    "import numpy\n",
    "import matplotlib.pyplot as plt\n",
    "\n",
    "import scipy.ndimage"
   ]
  },
  {
   "cell_type": "code",
   "execution_count": null,
   "metadata": {},
   "outputs": [],
   "source": [
    "#define paths to image\n",
    "Image_path = \"C:\\\\Users\\\\finne\\\\Documents\\\\python\\\\cropped_cells\\\\AssayPlate_PerkinElmer_CellCarrier-384_B07_T0001F007L01A01ZXXC03_cropped_016.npy\"\n",
    "\n",
    "#Image_path = \"/Users/kevin/Desktop/generate_all_maximum_projections_output/Plate1_12-30-20_18-38-45_B02_T0001F001L01A02ZXXC01_maximum_projection.png\""
   ]
  },
  {
   "cell_type": "code",
   "execution_count": null,
   "metadata": {},
   "outputs": [],
   "source": [
    "#import and segment image\n",
    "image = numpy.load(Image_path, allow_pickle=True)\n",
    "filtered = skimage.filters.gaussian(image, sigma=2)\n",
    "\n",
    "#parameters to change and possibly pass into per-channel/per-experiment script:\n",
    "# threshold: what is your basic signal:noise ratio for spot centers? 75th percentile because around half the pixels will be in background and zeroed out\n",
    "fold_threshold = 4\n",
    "background = numpy.percentile(filtered, 75)\n",
    "threshold = background*fold_threshold\n",
    "\n",
    "# size: what is the radius of your spots? If they're particularly small and sharp, consider lowering this parameter, but generally change threshold before you change this. \n",
    "radius = 0.3\n",
    "\n",
    "spots = skimage.feature.blob_log(filtered, min_sigma=radius, max_sigma=2, threshold=threshold)"
   ]
  },
  {
   "cell_type": "code",
   "execution_count": null,
   "metadata": {},
   "outputs": [],
   "source": [
    "# display image and found spots -- these coordinates (+ offset) can be used to look up precalculated z-position and radial position. \n",
    "plt.imshow(image)\n",
    "\n",
    "fig = plt.gcf()\n",
    "ax = fig.gca()\n",
    "\n",
    "for spot in spots:\n",
    "    circle = plt.Circle((spot[1], spot[0]), 7, color='r', alpha=0.3)\n",
    "    ax.add_patch(circle)\n",
    "\n",
    "plt.show()\n",
    "\n",
    "print(spots)"
   ]
  },
  {
   "cell_type": "code",
   "execution_count": null,
   "metadata": {},
   "outputs": [],
   "source": [
    "# use flood to find extent of spot and calculate center of mass\n",
    "# this sets a tolerance as, essentially, half-maximum intensity: half the difference between the maximum intensity (spot center) and the background (75th percentile).\n",
    "\n",
    "spot_positions = spots[0:,0:2].astype(int)\n",
    "\n",
    "markers = numpy.zeros(numpy.shape(image)).astype(int)\n",
    "for spot in spot_positions:\n",
    "    marker = skimage.segmentation.flood(image, tuple(spot), tolerance=(image[spot[0],spot[1]] - background)/2)\n",
    "    markers = marker + markers\n",
    "    print(scipy.ndimage.center_of_mass(image, marker))\n",
    "\n",
    "\n",
    "plt.imshow(markers)\n",
    "plt.show()"
   ]
  },
  {
   "cell_type": "code",
   "execution_count": null,
   "metadata": {},
   "outputs": [],
   "source": []
  }
 ]
}