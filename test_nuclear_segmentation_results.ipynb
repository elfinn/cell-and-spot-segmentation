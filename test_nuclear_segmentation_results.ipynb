{
 "cells": [
  {
   "cell_type": "code",
   "execution_count": null,
   "metadata": {},
   "outputs": [],
   "source": [
    "#import some tools that we will use\r\n",
    "import skimage.io\r\n",
    "import skimage.measure\r\n",
    "import numpy\r\n",
    "import matplotlib.pyplot as plt\r\n",
    "import cellpose.plot\r\n",
    "import generate_nuclear_segmentation\r\n",
    "\r\n",
    "import models.labels\r\n",
    "from pathlib import Path\r\n",
    "from models.image_filename_glob import ImageFilenameGlob"
   ]
  },
  {
   "cell_type": "code",
   "execution_count": null,
   "metadata": {},
   "outputs": [],
   "source": [
    "#define paths to image and segmentation directory (directory unused??)\r\n",
    "DAPI_image_dir = \"C:\\\\Users\\\\finne\\\\Documents\\\\python\\\\z_centers_test_20210301\\\\\"\r\n",
    "nuclear_mask_dir = \"C:\\\\Users\\\\finne\\\\Documents\\\\python\\\\nuclear_masks_20210304\\\\\"\r\n",
    "\r\n",
    "well_ID = \"B02\"\r\n",
    "field_ID = 2\r\n",
    "\r\n",
    "mask_path = Path(nuclear_mask_dir)\r\n",
    "\r\n",
    "mask_filename_glob = mask_path.glob(str(ImageFilenameGlob(well = well_ID, f = field_ID, suffix=\"_nuclear_mask_???\", extension=\"npy\")))\r\n",
    "\r\n",
    "masks_selected_random = [next(mask_filename_glob) for _ in range(10)]\r\n",
    "\r\n",
    "for mask_selected in masks_selected_random:\r\n",
    "    print(mask_selected)\r\n"
   ]
  },
  {
   "cell_type": "code",
   "execution_count": null,
   "metadata": {},
   "outputs": [],
   "source": [
    "#import and segment image\n",
    "DAPI_image = skimage.io.imread(DAPI_image_path)\n",
    "\n",
    "nuclear_mask = generate_nuclear_segmentation.GenerateNuclearSegmentationJob(DAPI_image_path, nuclear_mask_dir, 100)\n",
    "segmentation_result = nuclear_mask.cellpose_filtered\n",
    "\n",
    "distinct_labels = models.labels.distinct_labels(segmentation_result)"
   ]
  },
  {
   "cell_type": "code",
   "execution_count": null,
   "metadata": {},
   "outputs": [],
   "source": [
    "#display the things\n",
    "plt.imshow(DAPI_image)\n",
    "contour_result = plt.contourf(segmentation_result, levels=distinct_labels, alpha=0.2)\n",
    "plt.show()\n"
   ]
  },
  {
   "cell_type": "code",
   "execution_count": null,
   "metadata": {},
   "outputs": [],
   "source": [
    "# display image and found spots -- these coordinates (+ offset) can be used to look up precalculated z-position and radial position. \r\n",
    "fig, axs = plt.subplots(2,5)\r\n",
    "\r\n",
    "for i in range(0,10):\r\n",
    "    mask = masks_selected_random[i]\r\n",
    "    mask_image = numpy.load(mask, allow_pickle=True).item()\r\n",
    "    print(numpy.shape(mask_image.mask))\r\n",
    "    ax = axs[i//5, i%5]\r\n",
    "    ax.imshow(mask_image.mask)\r\n",
    "    ax.get_xaxis().set_visible(False)\r\n",
    "    ax.get_yaxis().set_visible(False)\r\n",
    "\r\n",
    "fig.set_size_inches(15,7)\r\n",
    "fig.canvas.draw()"
   ]
  }
 ],
 "metadata": {
  "kernelspec": {
   "display_name": "Python 3",
   "language": "python",
   "name": "python3"
  },
  "language_info": {
   "codemirror_mode": {
    "name": "ipython",
    "version": 3
   },
   "file_extension": ".py",
   "mimetype": "text/x-python",
   "name": "python",
   "nbconvert_exporter": "python",
   "pygments_lexer": "ipython3",
   "version": "3.8.7"
  },
  "orig_nbformat": 2
 },
 "nbformat": 4,
 "nbformat_minor": 2
}