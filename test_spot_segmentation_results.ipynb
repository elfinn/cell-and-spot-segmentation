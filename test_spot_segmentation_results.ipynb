{
 "cells": [
  {
   "cell_type": "code",
   "execution_count": null,
   "metadata": {},
   "outputs": [],
   "source": [
    "#import some tools that we will use\r\n",
    "import skimage.io\r\n",
    "import skimage.measure\r\n",
    "import skimage.feature\r\n",
    "import skimage.segmentation\r\n",
    "from skimage.morphology import disk\r\n",
    "import scipy.ndimage\r\n",
    "import numpy\r\n",
    "import matplotlib.pyplot as plt\r\n",
    "from generate_spot_positions import GenerateSpotPositionsJob\r\n",
    "from models.image_filename_glob import ImageFilenameGlob\r\n",
    "import csv\r\n",
    "import scipy.ndimage\r\n",
    "from pathlib import Path"
   ]
  },
  {
   "cell_type": "code",
   "execution_count": null,
   "metadata": {},
   "outputs": [],
   "source": [
    "#define paths to images\r\n",
    "image_folder = \"C:\\\\Users\\\\finne\\\\Documents\\\\python\\\\dropbox_test\\\\cell_crops\\\\\"\r\n",
    "\r\n",
    "# Image_path = \"/Users/kevin/Desktop/generate_all_cropped_cell_images_output/Plate1_12-30-20_18-38-45_B02_T0001F002L01A02ZXXC03_cropped_117.npy\"\r\n",
    "\r\n",
    "well_ID = \"B02\"\r\n",
    "field_ID = 5\r\n",
    "channel_ID = 3\r\n",
    "\r\n",
    "# Find 10 random nuclei\r\n",
    "image_path = Path(image_folder)\r\n",
    "\r\n",
    "image_filename_glob = image_path.glob(str(ImageFilenameGlob(well = well_ID, f = field_ID, c = channel_ID, suffix=\"_maximum_projection_nuclear_mask_???\", extension=\"npy\")))\r\n",
    "\r\n",
    "images_selected_random = [next(image_filename_glob) for _ in range(10)]\r\n",
    "\r\n",
    "for image_selected in images_selected_random:\r\n",
    "    print(image_selected)"
   ]
  },
  {
   "cell_type": "code",
   "execution_count": null,
   "metadata": {},
   "outputs": [],
   "source": [
    "# SET PARAMETERS HERE! \r\n",
    "\r\n",
    "# Contrast threshold is applied to the laplacian of the gaussian, it is fairly cryptic, so trial and error works best to find a good value.\r\n",
    "contrast_threshold = 5\r\n",
    "\r\n",
    "# Peak radius is applied to pre-filter the spots; anything smaller than this will get filtered out, so err on the small side. \r\n",
    "# It ought to be near the actual radius of the visible spot in pixels, though.\r\n",
    "spot_peak_radius = 2\r\n",
    "\r\n",
    "# Because your images are normalized to 0-1 range in the cell, your spot maxima are set to 1. So this ought to be the inverse of your overall signal:noise ratio\r\n",
    "# Counterintuitively, better FISH -> lower threshold here -> less filtering taking place on the actual image\r\n",
    "global_threshold = 0.3\r\n",
    "\r\n",
    "segmenters = [GenerateSpotPositionsJob(image, \"no_output\", contrast_threshold, spot_peak_radius, global_threshold) for image in images_selected_random]"
   ]
  },
  {
   "cell_type": "code",
   "execution_count": null,
   "metadata": {},
   "outputs": [],
   "source": [
    "# display image and found spots -- these coordinates (+ offset) can be used to look up precalculated z-position and radial position. \r\n",
    "fig, axs = plt.subplots(2,5)\r\n",
    "\r\n",
    "for i in range(0,10):\r\n",
    "    ax = axs[i//5, i%5]\r\n",
    "    ax.imshow(segmenters[i].image)\r\n",
    "    ax.get_xaxis().set_visible(False)\r\n",
    "    ax.get_yaxis().set_visible(False)\r\n",
    "    for spot in segmenters[i].spots:\r\n",
    "        circle=plt.Circle((spot[1], spot[0]), 7, color='r', alpha=0.3)\r\n",
    "        ax.add_patch(circle)\r\n",
    "\r\n",
    "fig.set_size_inches(15,7)\r\n",
    "fig.canvas.draw()"
   ]
  },
  {
   "cell_type": "code",
   "execution_count": null,
   "metadata": {},
   "outputs": [],
   "source": [
    "# read in config file into hash\r\n",
    "# change hash as needed to reflect parameters above\r\n",
    "# overwrite config file with new values\r\n",
    "\r\n",
    "config_file = \"C:\\\\Users\\\\finne\\\\Documents\\\\python\\\\dropbox_test\\\\spot_seg_config.csv\"\r\n",
    "config_file_path = Path(config_file)\r\n",
    "\r\n",
    "config_dict = {\"channel\" : (\"local_contrast\", \"peak_radius\", \"global_threshold\")}\r\n",
    "if config_file_path.exists():\r\n",
    "    with open(config_file_path) as csvfile:\r\n",
    "        reader = csv.DictReader(csvfile)\r\n",
    "        for row in reader:\r\n",
    "            config_dict = {key:val for key, val in row.items()}\r\n",
    "\r\n",
    "current_line = {str(channel_ID): (contrast_threshold, spot_peak_radius, global_threshold)}\r\n",
    "config_dict.update(current_line)\r\n",
    "[print(\"%s\" % key, val) for key, val in config_dict.items()]\r\n",
    "\r\n",
    "with open(config_file, 'w+') as write_file:\r\n",
    "    csvWriter = csv.DictWriter(write_file, fieldnames = config_dict.keys())\r\n",
    "    csvWriter.writeheader()\r\n",
    "    csvWriter.writerow(config_dict)"
   ]
  }
 ],
 "metadata": {
  "kernelspec": {
   "display_name": "Python 3.8.7 64-bit ('elizabeth-pipeline-lpJOCUlQ': pipenv)",
   "metadata": {
    "interpreter": {
     "hash": "0c0b84edaa8c233f8e029e868392f10e840528a102e92ecf094fbed9b27fbfeb"
    }
   },
   "name": "python3"
  },
  "language_info": {
   "codemirror_mode": {
    "name": "ipython",
    "version": 3
   },
   "file_extension": ".py",
   "mimetype": "text/x-python",
   "name": "python",
   "nbconvert_exporter": "python",
   "pygments_lexer": "ipython3",
   "version": "3.8.7"
  },
  "orig_nbformat": 2
 },
 "nbformat": 4,
 "nbformat_minor": 2
}