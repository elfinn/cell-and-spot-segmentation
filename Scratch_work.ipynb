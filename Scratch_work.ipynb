{
 "cells": [
  {
   "cell_type": "code",
   "execution_count": 1,
   "id": "ca9421b9-0fbf-44c2-905f-3776d92d6b4c",
   "metadata": {
    "tags": []
   },
   "outputs": [],
   "source": [
    "import os\n",
    "import re"
   ]
  },
  {
   "cell_type": "code",
   "execution_count": 19,
   "id": "e26cef40-5a7f-4ea0-9819-f21ed6442331",
   "metadata": {
    "tags": []
   },
   "outputs": [],
   "source": [
    "files_list = [(\"/hpc-prj/finn/Results/MIPs/2023-05-25/381/HCT116_C03_s2_w3_maximum_projection.tif\", \n",
    "               \"/hpc-prj/finn/Results/masks/2023-05-25/381/HCT116_C03_s2_wX_nucleus_219.npy\"),\n",
    "              (\"/hpc-prj/finn/Results/MIPs/2023-05-25/381/HCT116_C03_s2_w3_maximum_projection.tif\",\n",
    "               \"/hpc-prj/finn/Results/masks/2023-05-25/381/HCT116_C03_s2_wX_nucleus_162.npy\"),\n",
    "              (\"/hpc-prj/finn/Results/MIPs/2023-05-25/381/HCT116_C03_s2_w3_maximum_projection.tif\",\n",
    "               \"/hpc-prj/finn/Results/masks/2023-05-25/381/HCT116_C03_s2_wX_nucleus_186.npy\")]\n",
    "\n",
    "test_file = \"/hpc-prj/finn/Results/crops/test_list.txt\"\n",
    "\n",
    "with open(test_file, \"w\") as test_file:\n",
    "    for file_pair in files_list:\n",
    "        test_file.write(\"%s, %s\\n\"%(file_pair[0], file_pair[1]))\n"
   ]
  },
  {
   "cell_type": "code",
   "execution_count": 24,
   "id": "cddf39db-a09f-43fb-8f71-e74ad34c6197",
   "metadata": {
    "tags": []
   },
   "outputs": [
    {
     "name": "stdout",
     "output_type": "stream",
     "text": [
      "Image: /hpc-prj/finn/Results/MIPs/2023-05-25/381/HCT116_C03_s2_w3_maximum_projection.tif, Mask: /hpc-prj/finn/Results/masks/2023-05-25/381/HCT116_C03_s2_wX_nucleus_219.npy\n",
      "Image: /hpc-prj/finn/Results/MIPs/2023-05-25/381/HCT116_C03_s2_w3_maximum_projection.tif, Mask: /hpc-prj/finn/Results/masks/2023-05-25/381/HCT116_C03_s2_wX_nucleus_162.npy\n",
      "Image: /hpc-prj/finn/Results/MIPs/2023-05-25/381/HCT116_C03_s2_w3_maximum_projection.tif, Mask: /hpc-prj/finn/Results/masks/2023-05-25/381/HCT116_C03_s2_wX_nucleus_186.npy\n"
     ]
    }
   ],
   "source": [
    "with open(\"/hpc-prj/finn/Results/crops/test_list.txt\", \"r\") as test_file:\n",
    "    lines = test_file.readlines()\n",
    "    for line in lines:\n",
    "        strip = line.strip()\n",
    "        pair = strip.split(\", \")\n",
    "        image, mask = pair\n",
    "        print(\"Image: %s, Mask: %s\"%(image, mask))"
   ]
  },
  {
   "cell_type": "code",
   "execution_count": null,
   "id": "69a521b0-3595-4a67-8575-792e914e4560",
   "metadata": {},
   "outputs": [],
   "source": []
  }
 ],
 "metadata": {
  "kernelspec": {
   "display_name": "Python 3 (ipykernel)",
   "language": "python",
   "name": "python3"
  },
  "language_info": {
   "codemirror_mode": {
    "name": "ipython",
    "version": 3
   },
   "file_extension": ".py",
   "mimetype": "text/x-python",
   "name": "python",
   "nbconvert_exporter": "python",
   "pygments_lexer": "ipython3",
   "version": "3.10.2"
  }
 },
 "nbformat": 4,
 "nbformat_minor": 5
}
