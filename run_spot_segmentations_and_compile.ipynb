{
 "cells": [
  {
   "cell_type": "code",
   "execution_count": null,
   "metadata": {},
   "outputs": [],
   "source": [
    "from models.swarm_job import SwarmJob, RunStrategy\r\n",
    "from pathlib import Path\r\n",
    "import generate_all_spot_positions\r\n",
    "import generate_all_spot_result_lines\r\n",
    "import generate_spot_results_file"
   ]
  },
  {
   "cell_type": "code",
   "execution_count": null,
   "metadata": {},
   "outputs": [],
   "source": [
    "# Set strategy here -- \"RunStrategy.SWARM\" is running on Biowulf/with swarm in parallel, \"RunStrategy.LOCAL\" is testing a single well/image without parallelization\r\n",
    "SwarmJob.run_strategy = RunStrategy.LOCAL"
   ]
  },
  {
   "cell_type": "code",
   "execution_count": null,
   "metadata": {},
   "outputs": [],
   "source": [
    "# Find your files!\r\n",
    "source_cropped_images = \"C:\\\\Users\\\\finne\\\\Documents\\\\python\\\\20210305_results\\\\cell_crops\\\\\"\r\n",
    "results_directory = Path(\"C:\\\\Users\\\\finne\\\\python\\\\20210305_results\\\\\")\r\n",
    "spot_positions_directory = results_directory / \"spot_positions\\\\\"\r\n",
    "spot_result_lines_directory = results_directory / \"spot_result_lines\\\\\"\r\n",
    "\r\n",
    "config_file = \"C:\\\\Users\\\\finne\\\\Documents\\\\python\\\\dropbox_test\\\\spot_seg_config.json\""
   ]
  },
  {
   "cell_type": "code",
   "execution_count": null,
   "metadata": {},
   "outputs": [],
   "source": [
    "# Run the spot segmentation! \r\n",
    "# If you don't yet have a config file, use the test_spot_segmentation.ipynb notebook to try some parameters and generate a config file!\r\n",
    "\r\n",
    "GenerateAllSpotPositionsJob(source_cropped_images, spot_positions_directory, config_file).run()"
   ]
  },
  {
   "cell_type": "code",
   "execution_count": null,
   "metadata": {},
   "outputs": [],
   "source": [
    "# From spot segmentations, find x, y, z, and r positions!\r\n",
    "GenerateAllSpotResultLinesJob(spot_positions_directory, spot_result_lines_directory).run()"
   ]
  },
  {
   "cell_type": "code",
   "execution_count": null,
   "metadata": {},
   "outputs": [],
   "source": [
    "# Find and merge all spot positions into a single file!\r\n",
    "GenerateSpotResultsFileJob(spot_result_lines_directory, results_directory).run()"
   ]
  }
 ],
 "metadata": {
  "kernelspec": {
   "display_name": "Python 3.8.7 64-bit ('elizabeth-pipeline': pipenv)",
   "metadata": {
    "interpreter": {
     "hash": "0c0b84edaa8c233f8e029e868392f10e840528a102e92ecf094fbed9b27fbfeb"
    }
   },
   "name": "python3"
  },
  "language_info": {
   "name": "python",
   "nbconvert_exporter": "python",
   "version": "3.8.7-final"
  },
  "orig_nbformat": 2
 },
 "nbformat": 4,
 "nbformat_minor": 2
}