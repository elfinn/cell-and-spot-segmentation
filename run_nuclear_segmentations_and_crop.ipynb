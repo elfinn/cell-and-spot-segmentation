{
 "cells": [
  {
   "cell_type": "code",
   "execution_count": 1,
   "metadata": {},
   "outputs": [],
   "source": [
    "# Set filetype environment variable here, before anything is loaded... \"LSM\" is LSM, \"CV\" is default and for CV7000 or CV8000\n",
    "import os\n",
    "os.environ[\"FILE_TYPE\"] = \"LSM\""
   ]
  },
  {
   "cell_type": "code",
   "execution_count": 2,
   "metadata": {},
   "outputs": [],
   "source": [
    "from models.swarm_job import SwarmJob, RunStrategy\n",
    "from pathlib import Path\n",
    "from generate_all_maximum_projections import GenerateAllMaximumProjectionsJob\n",
    "from generate_all_nuclear_segmentations import GenerateAllNuclearSegmentationsJob\n",
    "from generate_all_nuclear_masks import GenerateAllNuclearMasksJob\n",
    "from generate_all_cropped_cell_images import GenerateAllCroppedCellImagesJob\n",
    "from generate_all_distance_transforms import GenerateAllDistanceTransformsJob\n",
    "from generate_all_cell_result_lines import GenerateAllCellResultLinesJob\n",
    "from generate_cell_results_file import GenerateCellResultsFileJob"
   ]
  },
  {
   "cell_type": "code",
   "execution_count": 3,
   "metadata": {},
   "outputs": [],
   "source": [
    "# Set strategy here -- \"RunStrategy.SWARM\" is running on Biowulf/with swarm in parallel, \"RunStrategy.LOCAL\" is testing a single well/image without parallelization\n",
    "SwarmJob.run_strategy = RunStrategy.LOCAL"
   ]
  },
  {
   "cell_type": "code",
   "execution_count": 4,
   "metadata": {},
   "outputs": [],
   "source": [
    "# Set your file system variables here: where are your images and what folders would you like to output to?\n",
    "\n",
    "source_images = \"/data/finne/20210723_Josh/Test/\"\n",
    "results_directory = Path(\"/data/finne/20210723_Josh/Results\")\n",
    "MIP_directory = results_directory / \"MIPs_and_z_centers/\"\n",
    "nuclear_segmentations_directory = results_directory / \"nuclear_segmentations/\" \n",
    "nuclear_masks_directory = results_directory / \"nuclear_masks/\"\n",
    "distance_transforms_directory = results_directory / \"distance_transforms/\"\n",
    "cell_crops_directory = results_directory / \"cell_crops/\"\n",
    "cell_result_lines_directory = results_directory / \"cell_result_lines/\"\n",
    "\n",
    "log_files_directory = results_directory/ \"logs/\"\n",
    "\n",
    "# CellPose takes as an argument the diameter of the cells. Looking at some images and rounding up works fairly well to start.\n",
    "# If you're not sure and want to test a few options, first run the maximum projection script and then use the test_nuclear_segmentation.ipynb notebook.\n",
    "\n",
    "DAPI_channel = 3\n",
    "diameter = 100"
   ]
  },
  {
   "cell_type": "code",
   "execution_count": null,
   "metadata": {
    "scrolled": true
   },
   "outputs": [],
   "source": [
    "# Maximum projections!\n",
    "GenerateAllMaximumProjectionsJob(source_images, \n",
    "                                 MIP_directory, \n",
    "                                 log_files_directory).run()"
   ]
  },
  {
   "cell_type": "code",
   "execution_count": null,
   "metadata": {
    "scrolled": true
   },
   "outputs": [],
   "source": [
    "# Nuclear segmentations!\n",
    "GenerateAllNuclearSegmentationsJob(MIP_directory, \n",
    "                                   nuclear_segmentations_directory, \n",
    "                                   log_files_directory, \n",
    "                                   diameter, DAPI_channel).run()"
   ]
  },
  {
   "cell_type": "code",
   "execution_count": null,
   "metadata": {
    "scrolled": true
   },
   "outputs": [],
   "source": [
    "# Crop nuclear segmentations for individual nuclear masks!\n",
    "GenerateAllNuclearMasksJob(nuclear_segmentations_directory, \n",
    "                           nuclear_masks_directory, \n",
    "                           log_files_directory).run()"
   ]
  },
  {
   "cell_type": "code",
   "execution_count": null,
   "metadata": {
    "scrolled": true
   },
   "outputs": [],
   "source": [
    "# Calculate distance transform for radial position!\n",
    "GenerateAllDistanceTransformsJob(nuclear_masks_directory, \n",
    "                                 distance_transforms_directory, \n",
    "                                 log_files_directory).run()"
   ]
  },
  {
   "cell_type": "code",
   "execution_count": null,
   "metadata": {
    "scrolled": true
   },
   "outputs": [],
   "source": [
    "# Crop cell images using nuclear masks!\n",
    "GenerateAllCroppedCellImagesJob(MIP_directory, \n",
    "                                nuclear_masks_directory, \n",
    "                                cell_crops_directory, \n",
    "                                log_files_directory, DAPI_channel).run()"
   ]
  },
  {
   "cell_type": "code",
   "execution_count": null,
   "metadata": {},
   "outputs": [],
   "source": [
    "# Cell-level result line with summed intensities!\n",
    "GenerateAllCellResultLinesJob(MIP_directory, \n",
    "                                nuclear_masks_directory, \n",
    "                                cell_result_lines_directory, \n",
    "                                log_files_directory).run()"
   ]
  },
  {
   "cell_type": "code",
   "execution_count": null,
   "metadata": {},
   "outputs": [],
   "source": [
    "# Find and merge all cell intensities into a single file!\n",
    "GenerateCellResultsFileJob(cell_result_lines_directory, results_directory).run()"
   ]
  },
  {
   "cell_type": "code",
   "execution_count": null,
   "metadata": {},
   "outputs": [],
   "source": []
  }
 ],
 "metadata": {
  "kernelspec": {
   "display_name": "cell_seg_with_cellpose",
   "language": "python",
   "name": "cell_seg_with_cellpose"
  },
  "language_info": {
   "codemirror_mode": {
    "name": "ipython",
    "version": 3
   },
   "file_extension": ".py",
   "mimetype": "text/x-python",
   "name": "python",
   "nbconvert_exporter": "python",
   "pygments_lexer": "ipython3",
   "version": "3.8.12"
  }
 },
 "nbformat": 4,
 "nbformat_minor": 4
}
