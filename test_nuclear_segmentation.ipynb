{
 "cells": [
  {
   "cell_type": "code",
   "execution_count": null,
   "metadata": {},
   "outputs": [],
   "source": [
    "#import some tools that we will use\r\n",
    "import skimage.io\r\n",
    "import skimage.measure\r\n",
    "import numpy\r\n",
    "import matplotlib.pyplot as plt\r\n",
    "import cellpose.plot\r\n",
    "import generate_nuclear_segmentation\r\n",
    "\r\n",
    "import models.labels\r\n",
    "from pathlib import Path\r\n",
    "from models.image_filename_glob import ImageFilenameGlob"
   ]
  },
  {
   "cell_type": "code",
   "execution_count": null,
   "metadata": {},
   "outputs": [],
   "source": [
    "#Define DAPI image you're starting with (maximally projected) and load it\r\n",
    "\r\n",
    "DAPI_image_file = \"C:\\\\Users\\\\finne\\\\Documents\\\\python\\\\z_center_test_20210301\\\\Plate1_12-30-20_18-38-45_B02_T0001F001L01A02ZXXC01_maximum_projection.png\"\r\n",
    "\r\n",
    "DAPI_image = skimage.io.imread(DAPI_image_file)"
   ]
  },
  {
   "cell_type": "code",
   "execution_count": null,
   "metadata": {},
   "outputs": [],
   "source": [
    "#OPTION ONE: If you haven't already run anything, and want to check out a few diameters before you segment: \r\n",
    "# define path to image and create a segmentation job\r\n",
    "\r\n",
    "nuclear_mask = generate_nuclear_segmentation.GenerateNuclearSegmentationJob(DAPI_image_path, nuclear_mask_dir, 100)\r\n",
    "segmentation_result = nuclear_mask.cellpose_filtered\r\n",
    "\r\n",
    "distinct_labels = models.labels.distinct_labels(segmentation_result)"
   ]
  },
  {
   "cell_type": "code",
   "execution_count": null,
   "metadata": {},
   "outputs": [],
   "source": [
    "#OPTION TWO: If you've already run the segmentation and want to make sure the masks look reasonable: \r\n",
    "# Define image and segmentation result\r\n",
    "\r\n",
    "nuclear_segmentation_file = \"C:\\\\Users\\\\finne\\\\Documents\\\\python\\\\nuclear_segmentations_20210304\\\\Plate1_12-30-20_18-38-45_B02_T0001F001L01AXXZXXCXX_nuclear_segmentation.npy\"\r\n",
    "\r\n",
    "segmentation_result = numpy.load(nuclear_segmentation_file)\r\n",
    "\r\n",
    "distinct_labels = models.labels.distinct_labels(segmentation_result)"
   ]
  },
  {
   "cell_type": "code",
   "execution_count": null,
   "metadata": {},
   "outputs": [],
   "source": [
    "#display the things\r\n",
    "plt.imshow(DAPI_image)\r\n",
    "contour_result = plt.contourf(segmentation_result, levels=distinct_labels, alpha=0.2)\r\n",
    "plt.show()\r\n"
   ]
  }
 ],
 "metadata": {
  "kernelspec": {
   "display_name": "Python 3",
   "language": "python",
   "name": "python3"
  },
  "language_info": {
   "codemirror_mode": {
    "name": "ipython",
    "version": 3
   },
   "file_extension": ".py",
   "mimetype": "text/x-python",
   "name": "python",
   "nbconvert_exporter": "python",
   "pygments_lexer": "ipython3",
   "version": "3.8.7"
  },
  "orig_nbformat": 2
 },
 "nbformat": 4,
 "nbformat_minor": 2
}