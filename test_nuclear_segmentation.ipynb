{
 "cells": [
  {
   "cell_type": "code",
   "execution_count": null,
   "metadata": {},
   "outputs": [],
   "source": [
    "#import some tools that we will use\n",
    "import skimage.io\n",
    "import skimage.measure\n",
    "import numpy\n",
    "import matplotlib.pyplot as plt\n",
    "import cellpose.plot\n",
    "import generate_nuclear_segmentation\n",
    "\n",
    "import models.labels\n",
    "from pathlib import Path\n",
    "from models.image_filename_glob import ImageFilenameGlob"
   ]
  },
  {
   "cell_type": "code",
   "execution_count": null,
   "metadata": {},
   "outputs": [],
   "source": [
    "#Define DAPI image you're starting with (maximally projected) and load it\n",
    "\n",
    "DAPI_image_file = \"/data/finne/20210514_StemCells/Results/MIPs_and_z_centers/AssayPlate_PerkinElmer_CellCarrier-384-Ultra-6057300_B02_T0002F006L01A02ZXXC01_maximum_projection.tif\"\n",
    "\n",
    "DAPI_image = skimage.io.imread(DAPI_image_file)\n",
    "\n",
    "nuclear_mask_dir = \"/data/finne/20210514_StemCells/masks/\""
   ]
  },
  {
   "cell_type": "code",
   "execution_count": null,
   "metadata": {},
   "outputs": [],
   "source": [
    "#OPTION ONE: If you haven't already run anything, and want to check out a few diameters before you segment: \n",
    "# define path to image and create a segmentation job\n",
    "\n",
    "nuclear_mask = generate_nuclear_segmentation.GenerateNuclearSegmentationJob(DAPI_image_file, nuclear_mask_dir, 100)\n",
    "segmentation_result = nuclear_mask.cellpose_filtered\n",
    "\n",
    "distinct_labels = models.labels.distinct_labels(segmentation_result)"
   ]
  },
  {
   "cell_type": "code",
   "execution_count": null,
   "metadata": {},
   "outputs": [],
   "source": [
    "#OPTION TWO: If you've already run the segmentation and want to make sure the masks look reasonable: \n",
    "# Define image and segmentation result\n",
    "\n",
    "nuclear_segmentation_file = \"/data/finne/20210302_Reanalysis/Jupyter_test/nuclear_segmentations/AssayPlate_PerkinElmer_CellCarrier-384 Ultra_M16_T0001F003L01AXXZXXCXX_nuclear_segmentation.npy\"\n",
    "\n",
    "\n",
    "segmentation_result = numpy.load(nuclear_segmentation_file)\n",
    "\n",
    "distinct_labels = models.labels.distinct_labels(segmentation_result)"
   ]
  },
  {
   "cell_type": "code",
   "execution_count": null,
   "metadata": {},
   "outputs": [],
   "source": [
    "#display the things\n",
    "plt.imshow(DAPI_image, cmap=\"Greys\")\n",
    "contour_result = plt.contourf(segmentation_result, levels=distinct_labels, alpha=0.2)\n",
    "plt.show()\n",
    "\n",
    "print(len(distinct_labels))"
   ]
  },
  {
   "cell_type": "code",
   "execution_count": null,
   "metadata": {},
   "outputs": [],
   "source": []
  }
 ],
 "metadata": {
  "kernelspec": {
   "display_name": "elizabeth-pipeline",
   "language": "python",
   "name": "elizabeth-pipeline"
  },
  "language_info": {
   "codemirror_mode": {
    "name": "ipython",
    "version": 3
   },
   "file_extension": ".py",
   "mimetype": "text/x-python",
   "name": "python",
   "nbconvert_exporter": "python",
   "pygments_lexer": "ipython3",
   "version": "3.8.5"
  }
 },
 "nbformat": 4,
 "nbformat_minor": 4
}
