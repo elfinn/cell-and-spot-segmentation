{
 "cells": [
  {
   "cell_type": "code",
   "execution_count": 1,
   "metadata": {},
   "outputs": [],
   "source": [
    "# Set filetype environment variable here, before anything is loaded... \"LSM\" is LSM, \"CV\" is default and for CV7000 or CV8000\n",
    "import os\n",
    "os.environ[\"FILE_TYPE\"] = \"LSM\""
   ]
  },
  {
   "cell_type": "code",
   "execution_count": 2,
   "metadata": {},
   "outputs": [],
   "source": [
    "from models.swarm_job import SwarmJob, RunStrategy\n",
    "from pathlib import Path\n",
    "from generate_all_maximum_projections import GenerateAllMaximumProjectionsJob\n",
    "from generate_all_nuclear_segmentations import GenerateAllNuclearSegmentationsJob\n",
    "from generate_all_nuclear_masks import GenerateAllNuclearMasksJob\n",
    "from generate_all_cropped_cell_images import GenerateAllCroppedCellImagesJob\n",
    "from generate_all_distance_transforms import GenerateAllDistanceTransformsJob\n",
    "from generate_all_cell_result_lines import GenerateAllCellResultLinesJob\n",
    "from generate_cell_results_file import GenerateCellResultsFileJob"
   ]
  },
  {
   "cell_type": "code",
   "execution_count": 3,
   "metadata": {},
   "outputs": [],
   "source": [
    "# Set strategy here -- \"RunStrategy.SWARM\" is running on Biowulf/with swarm in parallel, \"RunStrategy.LOCAL\" is testing a single well/image without parallelization\n",
    "SwarmJob.run_strategy = RunStrategy.LOCAL"
   ]
  },
  {
   "cell_type": "code",
   "execution_count": 4,
   "metadata": {},
   "outputs": [],
   "source": [
    "# Set your file system variables here: where are your images and what folders would you like to output to?\n",
    "\n",
    "source_images = \"/hpc-prj/finn/data/\"\n",
    "results_directory = Path(\"/hpc-prj/finn/data/Results\")\n",
    "MIP_directory = results_directory / \"MIPs_and_z_centers/\"\n",
    "nuclear_segmentations_directory = results_directory / \"nuclear_segmentations/\" \n",
    "nuclear_masks_directory = results_directory / \"nuclear_masks/\"\n",
    "distance_transforms_directory = results_directory / \"distance_transforms/\"\n",
    "cell_crops_directory = results_directory / \"cell_crops/\"\n",
    "cell_result_lines_directory = results_directory / \"cell_result_lines/\"\n",
    "\n",
    "log_files_directory = results_directory/ \"logs/\"\n",
    "\n",
    "# CellPose takes as an argument the diameter of the cells. Looking at some images and rounding up works fairly well to start.\n",
    "# If you're not sure and want to test a few options, first run the maximum projection script and then use the test_nuclear_segmentation.ipynb notebook.\n",
    "\n",
    "DAPI_channel = 1\n",
    "diameter = 100"
   ]
  },
  {
   "cell_type": "code",
   "execution_count": 5,
   "metadata": {
    "scrolled": true
   },
   "outputs": [
    {
     "name": "stderr",
     "output_type": "stream",
     "text": [
      "running generate_all_maximum_projections_20230512190426 in development mode\n",
      "command: python /hpc-prj/finn/cell-and-spot-segmentation/generate_maximum_projection.py --destination=/hpc-prj/finn/data/Results/MIPs_and_z_centers --source_directory=/hpc-prj/finn/data/ '20230501/CS2/50_6_T3 Stack 1_2023_05_11__12_06_19/p3/ch5/z?*.tif' '20230501/CS2/50_6_T3 Stack 1_2023_05_11__12_06_19/p2/ch2/z?*.tif' '20230501/CS2/50_6_T3 Stack 1_2023_05_11__12_06_19/p2/ch1/z?*.tif' '20230501/CS2/50_6_T3 Stack 1_2023_05_11__12_06_19/p5/ch4/z?*.tif' '20230501/CS2/50_6_T3 Stack 1_2023_05_11__12_06_19/p3/ch3/z?*.tif' '20230501/CS2/50_6_T3 Stack 1_2023_05_11__12_06_19/p3/ch2/z?*.tif' '20230501/CS2/50_6_T3 Stack 1_2023_05_11__12_06_19/p5/ch5/z?*.tif' '20230501/CS2/50_6_T3 Stack 1_2023_05_11__12_06_19/p3/ch4/z?*.tif' '20230501/CS2/50_6_T3 Stack 1_2023_05_11__12_06_19/p1/ch3/z?*.tif' '20230501/CS2/50_6_T3 Stack 1_2023_05_11__12_06_19/p4/ch3/z?*.tif' '20230501/CS2/50_6_T3 Stack 1_2023_05_11__12_06_19/p4/ch4/z?*.tif' '20230501/CS2/50_6_T3 Stack 1_2023_05_11__12_06_19/p1/ch4/z?*.tif' '20230501/CS2/50_6_T3 Stack 1_2023_05_11__12_06_19/p5/ch1/z?*.tif' '20230501/CS2/50_6_T3 Stack 1_2023_05_11__12_06_19/p1/ch5/z?*.tif' '20230501/CS2/50_6_T3 Stack 1_2023_05_11__12_06_19/p5/ch2/z?*.tif' '20230501/CS2/50_6_T3 Stack 1_2023_05_11__12_06_19/p4/ch5/z?*.tif' '20230501/CS2/50_6_T3 Stack 1_2023_05_11__12_06_19/p3/ch1/z?*.tif' '20230501/CS2/50_6_T3 Stack 1_2023_05_11__12_06_19/p5/ch3/z?*.tif' '20230501/CS2/50_6_T3 Stack 1_2023_05_11__12_06_19/p1/ch1/z?*.tif' '20230501/CS2/50_6_T3 Stack 1_2023_05_11__12_06_19/p2/ch3/z?*.tif' '20230501/CS2/50_6_T3 Stack 1_2023_05_11__12_06_19/p1/ch2/z?*.tif' '20230501/CS2/50_6_T3 Stack 1_2023_05_11__12_06_19/p4/ch2/z?*.tif' '20230501/CS2/50_6_T3 Stack 1_2023_05_11__12_06_19/p2/ch4/z?*.tif' '20230501/CS2/50_6_T3 Stack 1_2023_05_11__12_06_19/p2/ch5/z?*.tif' '20230501/CS2/50_6_T3 Stack 1_2023_05_11__12_06_19/p4/ch1/z?*.tif'\n",
      "Traceback (most recent call last):\n",
      "  File \"/usr/local/analysis/scikit-learn/1.2.2/venv/lib/python3.10/site-packages/numpy/core/__init__.py\", line 23, in <module>\n",
      "    from . import multiarray\n",
      "  File \"/usr/local/analysis/scikit-learn/1.2.2/venv/lib/python3.10/site-packages/numpy/core/multiarray.py\", line 10, in <module>\n",
      "    from . import overrides\n",
      "  File \"/usr/local/analysis/scikit-learn/1.2.2/venv/lib/python3.10/site-packages/numpy/core/overrides.py\", line 6, in <module>\n",
      "    from numpy.core._multiarray_umath import (\n",
      "ModuleNotFoundError: No module named 'numpy.core._multiarray_umath'\n",
      "\n",
      "During handling of the above exception, another exception occurred:\n",
      "\n",
      "Traceback (most recent call last):\n",
      "  File \"/hpc-prj/finn/cell-and-spot-segmentation/generate_maximum_projection.py\", line 8, in <module>\n",
      "    import numpy\n",
      "  File \"/usr/local/analysis/scikit-learn/1.2.2/venv/lib/python3.10/site-packages/numpy/__init__.py\", line 144, in <module>\n",
      "    from . import core\n",
      "  File \"/usr/local/analysis/scikit-learn/1.2.2/venv/lib/python3.10/site-packages/numpy/core/__init__.py\", line 49, in <module>\n",
      "    raise ImportError(msg)\n",
      "ImportError: \n",
      "\n",
      "IMPORTANT: PLEASE READ THIS FOR ADVICE ON HOW TO SOLVE THIS ISSUE!\n",
      "\n",
      "Importing the numpy C-extensions failed. This error can happen for\n",
      "many reasons, often due to issues with your setup or how NumPy was\n",
      "installed.\n",
      "\n",
      "We have compiled some common reasons and troubleshooting tips at:\n",
      "\n",
      "    https://numpy.org/devdocs/user/troubleshooting-importerror.html\n",
      "\n",
      "Please note and check the following:\n",
      "\n",
      "  * The Python version is: Python3.8 from \"/usr/bin/python\"\n",
      "  * The NumPy version is: \"1.22.4\"\n",
      "\n",
      "and make sure that they are the versions you expect.\n",
      "Please carefully study the documentation linked above for further help.\n",
      "\n",
      "Original error was: No module named 'numpy.core._multiarray_umath'\n",
      "\n"
     ]
    },
    {
     "ename": "CalledProcessError",
     "evalue": "Command '['python', '/hpc-prj/finn/cell-and-spot-segmentation/generate_maximum_projection.py', '--destination=/hpc-prj/finn/data/Results/MIPs_and_z_centers', '--source_directory=/hpc-prj/finn/data/', '20230501/CS2/50_6_T3 Stack 1_2023_05_11__12_06_19/p3/ch5/z?*.tif', '20230501/CS2/50_6_T3 Stack 1_2023_05_11__12_06_19/p2/ch2/z?*.tif', '20230501/CS2/50_6_T3 Stack 1_2023_05_11__12_06_19/p2/ch1/z?*.tif', '20230501/CS2/50_6_T3 Stack 1_2023_05_11__12_06_19/p5/ch4/z?*.tif', '20230501/CS2/50_6_T3 Stack 1_2023_05_11__12_06_19/p3/ch3/z?*.tif', '20230501/CS2/50_6_T3 Stack 1_2023_05_11__12_06_19/p3/ch2/z?*.tif', '20230501/CS2/50_6_T3 Stack 1_2023_05_11__12_06_19/p5/ch5/z?*.tif', '20230501/CS2/50_6_T3 Stack 1_2023_05_11__12_06_19/p3/ch4/z?*.tif', '20230501/CS2/50_6_T3 Stack 1_2023_05_11__12_06_19/p1/ch3/z?*.tif', '20230501/CS2/50_6_T3 Stack 1_2023_05_11__12_06_19/p4/ch3/z?*.tif', '20230501/CS2/50_6_T3 Stack 1_2023_05_11__12_06_19/p4/ch4/z?*.tif', '20230501/CS2/50_6_T3 Stack 1_2023_05_11__12_06_19/p1/ch4/z?*.tif', '20230501/CS2/50_6_T3 Stack 1_2023_05_11__12_06_19/p5/ch1/z?*.tif', '20230501/CS2/50_6_T3 Stack 1_2023_05_11__12_06_19/p1/ch5/z?*.tif', '20230501/CS2/50_6_T3 Stack 1_2023_05_11__12_06_19/p5/ch2/z?*.tif', '20230501/CS2/50_6_T3 Stack 1_2023_05_11__12_06_19/p4/ch5/z?*.tif', '20230501/CS2/50_6_T3 Stack 1_2023_05_11__12_06_19/p3/ch1/z?*.tif', '20230501/CS2/50_6_T3 Stack 1_2023_05_11__12_06_19/p5/ch3/z?*.tif', '20230501/CS2/50_6_T3 Stack 1_2023_05_11__12_06_19/p1/ch1/z?*.tif', '20230501/CS2/50_6_T3 Stack 1_2023_05_11__12_06_19/p2/ch3/z?*.tif', '20230501/CS2/50_6_T3 Stack 1_2023_05_11__12_06_19/p1/ch2/z?*.tif', '20230501/CS2/50_6_T3 Stack 1_2023_05_11__12_06_19/p4/ch2/z?*.tif', '20230501/CS2/50_6_T3 Stack 1_2023_05_11__12_06_19/p2/ch4/z?*.tif', '20230501/CS2/50_6_T3 Stack 1_2023_05_11__12_06_19/p2/ch5/z?*.tif', '20230501/CS2/50_6_T3 Stack 1_2023_05_11__12_06_19/p4/ch1/z?*.tif']' returned non-zero exit status 1.",
     "output_type": "error",
     "traceback": [
      "\u001b[0;31m---------------------------------------------------------------------------\u001b[0m",
      "\u001b[0;31mCalledProcessError\u001b[0m                        Traceback (most recent call last)",
      "Cell \u001b[0;32mIn[5], line 4\u001b[0m\n\u001b[1;32m      1\u001b[0m \u001b[38;5;66;03m# Maximum projections!\u001b[39;00m\n\u001b[1;32m      2\u001b[0m \u001b[43mGenerateAllMaximumProjectionsJob\u001b[49m\u001b[43m(\u001b[49m\u001b[43msource_images\u001b[49m\u001b[43m,\u001b[49m\u001b[43m \u001b[49m\n\u001b[1;32m      3\u001b[0m \u001b[43m                                 \u001b[49m\u001b[43mMIP_directory\u001b[49m\u001b[43m,\u001b[49m\u001b[43m \u001b[49m\n\u001b[0;32m----> 4\u001b[0m \u001b[43m                                 \u001b[49m\u001b[43mlog_files_directory\u001b[49m\u001b[43m)\u001b[49m\u001b[38;5;241;43m.\u001b[39;49m\u001b[43mrun\u001b[49m\u001b[43m(\u001b[49m\u001b[43m)\u001b[49m\n",
      "File \u001b[0;32m/hpc-prj/finn/cell-and-spot-segmentation/generate_all_maximum_projections.py:37\u001b[0m, in \u001b[0;36mGenerateAllMaximumProjectionsJob.run\u001b[0;34m(self)\u001b[0m\n\u001b[1;32m     28\u001b[0m \u001b[38;5;28;01mdef\u001b[39;00m \u001b[38;5;21mrun\u001b[39m(\u001b[38;5;28mself\u001b[39m):\n\u001b[1;32m     29\u001b[0m   \u001b[43mSwarmJob\u001b[49m\u001b[43m(\u001b[49m\n\u001b[1;32m     30\u001b[0m \u001b[43m    \u001b[49m\u001b[38;5;28;43mself\u001b[39;49m\u001b[38;5;241;43m.\u001b[39;49m\u001b[43msource\u001b[49m\u001b[43m,\u001b[49m\n\u001b[1;32m     31\u001b[0m \u001b[43m    \u001b[49m\u001b[38;5;28;43mself\u001b[39;49m\u001b[38;5;241;43m.\u001b[39;49m\u001b[43mdestination_path\u001b[49m\u001b[43m,\u001b[49m\n\u001b[1;32m     32\u001b[0m \u001b[43m    \u001b[49m\u001b[38;5;28;43mself\u001b[39;49m\u001b[38;5;241;43m.\u001b[39;49m\u001b[43mjob_name\u001b[49m\u001b[43m,\u001b[49m\n\u001b[1;32m     33\u001b[0m \u001b[43m    \u001b[49m\u001b[38;5;28;43mself\u001b[39;49m\u001b[38;5;241;43m.\u001b[39;49m\u001b[43mjobs\u001b[49m\u001b[43m,\u001b[49m\n\u001b[1;32m     34\u001b[0m \u001b[43m    \u001b[49m\u001b[38;5;28;43mself\u001b[39;49m\u001b[38;5;241;43m.\u001b[39;49m\u001b[43mlogdir\u001b[49m\u001b[43m,\u001b[49m\n\u001b[1;32m     35\u001b[0m \u001b[43m    \u001b[49m\u001b[43mMEMORY\u001b[49m\u001b[43m,\u001b[49m\n\u001b[1;32m     36\u001b[0m \u001b[43m    \u001b[49m\u001b[43mFILES_PER_CALL_COUNT\u001b[49m\n\u001b[0;32m---> 37\u001b[0m \u001b[43m  \u001b[49m\u001b[43m)\u001b[49m\u001b[38;5;241;43m.\u001b[39;49m\u001b[43mrun\u001b[49m\u001b[43m(\u001b[49m\u001b[43m)\u001b[49m\n",
      "File \u001b[0;32m/hpc-prj/finn/cell-and-spot-segmentation/models/swarm_job.py:52\u001b[0m, in \u001b[0;36mSwarmJob.run\u001b[0;34m(self)\u001b[0m\n\u001b[1;32m     50\u001b[0m   \u001b[38;5;28;01mfor\u001b[39;00m job \u001b[38;5;129;01min\u001b[39;00m \u001b[38;5;28mself\u001b[39m\u001b[38;5;241m.\u001b[39mjobs:\n\u001b[1;32m     51\u001b[0m     LOGGER\u001b[38;5;241m.\u001b[39mwarning(\u001b[38;5;124m\"\u001b[39m\u001b[38;5;124mcommand: \u001b[39m\u001b[38;5;132;01m%s\u001b[39;00m\u001b[38;5;124m\"\u001b[39m, job)\n\u001b[0;32m---> 52\u001b[0m     \u001b[43msubprocess\u001b[49m\u001b[38;5;241;43m.\u001b[39;49m\u001b[43mrun\u001b[49m\u001b[43m(\u001b[49m\u001b[43mshlex\u001b[49m\u001b[38;5;241;43m.\u001b[39;49m\u001b[43msplit\u001b[49m\u001b[43m(\u001b[49m\u001b[43mjob\u001b[49m\u001b[43m)\u001b[49m\u001b[43m)\u001b[49m\u001b[38;5;241;43m.\u001b[39;49m\u001b[43mcheck_returncode\u001b[49m\u001b[43m(\u001b[49m\u001b[43m)\u001b[49m\n\u001b[1;32m     53\u001b[0m   \u001b[38;5;28;01mreturn\u001b[39;00m\n\u001b[1;32m     54\u001b[0m \u001b[38;5;28mself\u001b[39m\u001b[38;5;241m.\u001b[39mgenerate_file()\n",
      "File \u001b[0;32m/usr/local/analysis/python/3.10.2/lib/python3.10/subprocess.py:456\u001b[0m, in \u001b[0;36mCompletedProcess.check_returncode\u001b[0;34m(self)\u001b[0m\n\u001b[1;32m    454\u001b[0m \u001b[38;5;250m\u001b[39m\u001b[38;5;124;03m\"\"\"Raise CalledProcessError if the exit code is non-zero.\"\"\"\u001b[39;00m\n\u001b[1;32m    455\u001b[0m \u001b[38;5;28;01mif\u001b[39;00m \u001b[38;5;28mself\u001b[39m\u001b[38;5;241m.\u001b[39mreturncode:\n\u001b[0;32m--> 456\u001b[0m     \u001b[38;5;28;01mraise\u001b[39;00m CalledProcessError(\u001b[38;5;28mself\u001b[39m\u001b[38;5;241m.\u001b[39mreturncode, \u001b[38;5;28mself\u001b[39m\u001b[38;5;241m.\u001b[39margs, \u001b[38;5;28mself\u001b[39m\u001b[38;5;241m.\u001b[39mstdout,\n\u001b[1;32m    457\u001b[0m                              \u001b[38;5;28mself\u001b[39m\u001b[38;5;241m.\u001b[39mstderr)\n",
      "\u001b[0;31mCalledProcessError\u001b[0m: Command '['python', '/hpc-prj/finn/cell-and-spot-segmentation/generate_maximum_projection.py', '--destination=/hpc-prj/finn/data/Results/MIPs_and_z_centers', '--source_directory=/hpc-prj/finn/data/', '20230501/CS2/50_6_T3 Stack 1_2023_05_11__12_06_19/p3/ch5/z?*.tif', '20230501/CS2/50_6_T3 Stack 1_2023_05_11__12_06_19/p2/ch2/z?*.tif', '20230501/CS2/50_6_T3 Stack 1_2023_05_11__12_06_19/p2/ch1/z?*.tif', '20230501/CS2/50_6_T3 Stack 1_2023_05_11__12_06_19/p5/ch4/z?*.tif', '20230501/CS2/50_6_T3 Stack 1_2023_05_11__12_06_19/p3/ch3/z?*.tif', '20230501/CS2/50_6_T3 Stack 1_2023_05_11__12_06_19/p3/ch2/z?*.tif', '20230501/CS2/50_6_T3 Stack 1_2023_05_11__12_06_19/p5/ch5/z?*.tif', '20230501/CS2/50_6_T3 Stack 1_2023_05_11__12_06_19/p3/ch4/z?*.tif', '20230501/CS2/50_6_T3 Stack 1_2023_05_11__12_06_19/p1/ch3/z?*.tif', '20230501/CS2/50_6_T3 Stack 1_2023_05_11__12_06_19/p4/ch3/z?*.tif', '20230501/CS2/50_6_T3 Stack 1_2023_05_11__12_06_19/p4/ch4/z?*.tif', '20230501/CS2/50_6_T3 Stack 1_2023_05_11__12_06_19/p1/ch4/z?*.tif', '20230501/CS2/50_6_T3 Stack 1_2023_05_11__12_06_19/p5/ch1/z?*.tif', '20230501/CS2/50_6_T3 Stack 1_2023_05_11__12_06_19/p1/ch5/z?*.tif', '20230501/CS2/50_6_T3 Stack 1_2023_05_11__12_06_19/p5/ch2/z?*.tif', '20230501/CS2/50_6_T3 Stack 1_2023_05_11__12_06_19/p4/ch5/z?*.tif', '20230501/CS2/50_6_T3 Stack 1_2023_05_11__12_06_19/p3/ch1/z?*.tif', '20230501/CS2/50_6_T3 Stack 1_2023_05_11__12_06_19/p5/ch3/z?*.tif', '20230501/CS2/50_6_T3 Stack 1_2023_05_11__12_06_19/p1/ch1/z?*.tif', '20230501/CS2/50_6_T3 Stack 1_2023_05_11__12_06_19/p2/ch3/z?*.tif', '20230501/CS2/50_6_T3 Stack 1_2023_05_11__12_06_19/p1/ch2/z?*.tif', '20230501/CS2/50_6_T3 Stack 1_2023_05_11__12_06_19/p4/ch2/z?*.tif', '20230501/CS2/50_6_T3 Stack 1_2023_05_11__12_06_19/p2/ch4/z?*.tif', '20230501/CS2/50_6_T3 Stack 1_2023_05_11__12_06_19/p2/ch5/z?*.tif', '20230501/CS2/50_6_T3 Stack 1_2023_05_11__12_06_19/p4/ch1/z?*.tif']' returned non-zero exit status 1."
     ]
    }
   ],
   "source": [
    "# Maximum projections!\n",
    "GenerateAllMaximumProjectionsJob(source_images, \n",
    "                                 MIP_directory, \n",
    "                                 log_files_directory).run()"
   ]
  },
  {
   "cell_type": "code",
   "execution_count": null,
   "metadata": {
    "scrolled": true
   },
   "outputs": [],
   "source": [
    "# Nuclear segmentations!\n",
    "GenerateAllNuclearSegmentationsJob(MIP_directory, \n",
    "                                   nuclear_segmentations_directory, \n",
    "                                   log_files_directory, \n",
    "                                   diameter, DAPI_channel).run()"
   ]
  },
  {
   "cell_type": "code",
   "execution_count": null,
   "metadata": {
    "scrolled": true
   },
   "outputs": [],
   "source": [
    "# Crop nuclear segmentations for individual nuclear masks!\n",
    "GenerateAllNuclearMasksJob(nuclear_segmentations_directory, \n",
    "                           nuclear_masks_directory, \n",
    "                           log_files_directory).run()"
   ]
  },
  {
   "cell_type": "code",
   "execution_count": null,
   "metadata": {
    "scrolled": true
   },
   "outputs": [],
   "source": [
    "# Calculate distance transform for radial position!\n",
    "GenerateAllDistanceTransformsJob(nuclear_masks_directory, \n",
    "                                 distance_transforms_directory, \n",
    "                                 log_files_directory).run()"
   ]
  },
  {
   "cell_type": "code",
   "execution_count": null,
   "metadata": {
    "scrolled": true
   },
   "outputs": [],
   "source": [
    "# Crop cell images using nuclear masks!\n",
    "GenerateAllCroppedCellImagesJob(MIP_directory, \n",
    "                                nuclear_masks_directory, \n",
    "                                cell_crops_directory, \n",
    "                                log_files_directory, DAPI_channel).run()"
   ]
  },
  {
   "cell_type": "code",
   "execution_count": null,
   "metadata": {},
   "outputs": [],
   "source": [
    "# Cell-level result line with summed intensities!\n",
    "GenerateAllCellResultLinesJob(MIP_directory, \n",
    "                                nuclear_masks_directory, \n",
    "                                cell_result_lines_directory, \n",
    "                                log_files_directory).run()"
   ]
  },
  {
   "cell_type": "code",
   "execution_count": null,
   "metadata": {},
   "outputs": [],
   "source": [
    "# Find and merge all cell intensities into a single file!\n",
    "GenerateCellResultsFileJob(cell_result_lines_directory, results_directory).run()"
   ]
  },
  {
   "cell_type": "code",
   "execution_count": null,
   "metadata": {},
   "outputs": [],
   "source": []
  }
 ],
 "metadata": {
  "kernelspec": {
   "display_name": "Python 3 (ipykernel)",
   "language": "python",
   "name": "python3"
  },
  "language_info": {
   "codemirror_mode": {
    "name": "ipython",
    "version": 3
   },
   "file_extension": ".py",
   "mimetype": "text/x-python",
   "name": "python",
   "nbconvert_exporter": "python",
   "pygments_lexer": "ipython3",
   "version": "3.10.2"
  }
 },
 "nbformat": 4,
 "nbformat_minor": 4
}
