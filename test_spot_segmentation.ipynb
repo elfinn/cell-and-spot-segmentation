{
 "cells": [
  {
   "cell_type": "code",
   "execution_count": null,
   "metadata": {},
   "outputs": [],
   "source": [
    "#import some tools that we will use\n",
    "import json\n",
    "import skimage.io\n",
    "import skimage.measure\n",
    "import skimage.feature\n",
    "import skimage.segmentation\n",
    "from skimage.morphology import disk\n",
    "import scipy.ndimage\n",
    "import numpy\n",
    "import matplotlib.pyplot as plt\n",
    "from generate_spot_positions import GenerateSpotPositionsJob\n",
    "from models.image_filename_glob import ImageFilenameGlob\n",
    "from models.generate_spot_positions_config import GenerateSpotPositionsConfig\n",
    "import csv\n",
    "import scipy.ndimage\n",
    "from pathlib import Path"
   ]
  },
  {
   "cell_type": "code",
   "execution_count": null,
   "metadata": {},
   "outputs": [],
   "source": [
    "#define paths to images\r\n",
    "image_folder = \"C:\\\\Users\\\\finne\\\\Documents\\\\python\\\\cell_crops_20210304\\\\\"\r\n",
    "\r\n",
    "well_ID = \"B02\"\r\n",
    "field_ID = 1\r\n",
    "channel_ID = 3\r\n",
    "\r\n",
    "# Pick out 10 nuclei (glob says it is random but it's almost always the first ten)\r\n",
    "image_path = Path(image_folder)\r\n",
    "\r\n",
    "image_filename_glob = image_path.glob(str(ImageFilenameGlob(well = well_ID, f = field_ID, c = channel_ID, suffix=\"_maximum_projection_nuclear_mask_???\", extension=\"npy\")))\r\n",
    "\r\n",
    "images_selected_random = [next(image_filename_glob) for _ in range(10)]\r\n",
    "\r\n",
    "for image_selected in images_selected_random:\r\n",
    "    print(image_selected)"
   ]
  },
  {
   "cell_type": "code",
   "execution_count": null,
   "metadata": {},
   "outputs": [],
   "source": [
    "# SET PARAMETERS HERE! \r\n",
    "\r\n",
    "# Contrast threshold is applied to the laplacian of the gaussian, it is fairly cryptic, so trial and error works best to find a good value.\r\n",
    "local_contrast_threshold = 2\r\n",
    "\r\n",
    "# Peak radius is applied to pre-filter the spots; anything smaller than this will get filtered out, so err on the small side. \r\n",
    "# It ought to be near the actual radius of the visible spot in pixels, though.\r\n",
    "peak_radius = 4\r\n",
    "\r\n",
    "# Because your images are normalized to 0-1 range in the cell, your spot maxima are set to 1. So this ought to be the inverse of your overall signal:noise ratio\r\n",
    "# Counterintuitively, better FISH -> lower threshold here -> less filtering taking place on the actual image\r\n",
    "global_contrast_threshold = 0.4\r\n",
    "\r\n",
    "segmenters = [GenerateSpotPositionsJob(image, \"no_output\", local_contrast_threshold, peak_radius, global_contrast_threshold) for image in images_selected_random]"
   ]
  },
  {
   "cell_type": "code",
   "execution_count": null,
   "metadata": {},
   "outputs": [],
   "source": [
    "# display image and found spots -- these coordinates (+ offset) can be used to look up precalculated z-position and radial position. \r\n",
    "\r\n",
    "fig, axs = plt.subplots(2,5)\r\n",
    "\r\n",
    "for i in range(0,10):\r\n",
    "    ax = axs[i//5, i%5]\r\n",
    "    ax.imshow(segmenters[i].image)\r\n",
    "    ax.get_xaxis().set_visible(False)\r\n",
    "    ax.get_yaxis().set_visible(False)\r\n",
    "    for spot in segmenters[i].spots:\r\n",
    "        circle=plt.Circle((spot[1], spot[0]), 7, color='r', alpha=0.3)\r\n",
    "        ax.add_patch(circle)\r\n",
    "\r\n",
    "fig.set_size_inches(15,7)\r\n",
    "fig.canvas.draw()"
   ]
  },
  {
   "cell_type": "code",
   "execution_count": null,
   "metadata": {},
   "outputs": [],
   "source": [
    "# read in config file into hash\r\n",
    "# change hash as needed to reflect parameters above\r\n",
    "# overwrite config file with new values\r\n",
    "\r\n",
    "config_file = \"C:\\\\Users\\\\finne\\\\Documents\\\\python\\\\dropbox_test\\\\spot_seg_config.json\"\r\n",
    "\r\n",
    "config_file_path = Path(config_file)\r\n",
    "\r\n",
    "existing_generate_spot_positions_configs = []\r\n",
    "if config_file_path.exists():\r\n",
    "    with open(config_file_path) as json_file:\r\n",
    "        existing_generate_spot_positions_configs_json_params = json.load(json_file)\r\n",
    "        existing_generate_spot_positions_configs = [\r\n",
    "            GenerateSpotPositionsConfig.from_json_params(json_params)\r\n",
    "            for json_params\r\n",
    "            in existing_generate_spot_positions_configs_json_params\r\n",
    "        ]\r\n",
    "\r\n",
    "current_generate_spot_positions_config = GenerateSpotPositionsConfig(\r\n",
    "    channel=channel_ID,\r\n",
    "    local_contrast_threshold=local_contrast_threshold,\r\n",
    "    peak_radius=peak_radius,\r\n",
    "    global_contrast_threshold=global_contrast_threshold\r\n",
    ")\r\n",
    "\r\n",
    "updated_generate_spot_positions_configs = [\r\n",
    "    current_generate_spot_positions_config,\r\n",
    "    *(\r\n",
    "        existing_generate_spot_positions_config\r\n",
    "        for existing_generate_spot_positions_config\r\n",
    "        in existing_generate_spot_positions_configs\r\n",
    "        if existing_generate_spot_positions_config.channel != current_generate_spot_positions_config.channel\r\n",
    "    )\r\n",
    "]\r\n",
    "\r\n",
    "updated_generate_spot_positions_configs_json_params = [config.to_json_params() for config in updated_generate_spot_positions_configs]\r\n",
    "with open(config_file_path, 'w') as write_file:\r\n",
    "    json.dump(updated_generate_spot_positions_configs_json_params, write_file)\r\n"
   ]
  }
 ],
 "metadata": {
  "kernelspec": {
   "display_name": "Python 3",
   "language": "python",
   "name": "python3"
  },
  "language_info": {
   "codemirror_mode": {
    "name": "ipython",
    "version": 3
   },
   "file_extension": ".py",
   "mimetype": "text/x-python",
   "name": "python",
   "nbconvert_exporter": "python",
   "pygments_lexer": "ipython3",
   "version": "3.8.7"
  },
  "orig_nbformat": 2
 },
 "nbformat": 4,
 "nbformat_minor": 2
}