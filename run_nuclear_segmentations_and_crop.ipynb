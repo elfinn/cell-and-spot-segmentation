{
 "cells": [
  {
   "cell_type": "code",
   "execution_count": 1,
   "metadata": {},
   "outputs": [],
   "source": [
    "from models.swarm_job import SwarmJob, RunStrategy\r\n",
    "from pathlib import Path\r\n",
    "import generate_all_maximum_projections\r\n",
    "import generate_all_nuclear_segmentations\r\n",
    "import generate_all_nuclear_masks\r\n",
    "import generate_all_cropped_cell_images\r\n",
    "import generate_all_distance_transforms"
   ]
  },
  {
   "cell_type": "code",
   "execution_count": 2,
   "metadata": {},
   "outputs": [],
   "source": [
    "# Set strategy here -- \"RunStrategy.SWARM\" is running on Biowulf/with swarm in parallel, \"RunStrategy.LOCAL\" is testing a single well/image without parallelization\r\n",
    "SwarmJob.run_strategy = RunStrategy.LOCAL"
   ]
  },
  {
   "cell_type": "code",
   "execution_count": 3,
   "metadata": {},
   "outputs": [],
   "source": [
    "# Set your file system variables here: where are your images and what folders would you like to output to?\r\n",
    "\r\n",
    "source_images = \"C:\\\\Users\\\\finne\\\\Documents\\\\python\\\\dropbox_test_images\\\\\"\r\n",
    "results_directory = Path(\"C:\\\\Users\\\\finne\\\\python\\\\20210305_results\\\\\")\r\n",
    "MIP_directory = results_directory / \"MIPs_and_z_centers\\\\\"\r\n",
    "nuclear_segmentations_directory = results_directory / \"nuclear_segmentations\\\\\" \r\n",
    "nuclear_masks_directory = results_directory / \"nuclear_masks\\\\\"\r\n",
    "distance_transforms_directory = results_directory / \"distance_transforms\\\\\"\r\n",
    "cell_crops_directory = results_directory / \"cell_crops\\\\\"\r\n",
    "\r\n",
    "# CellPose takes as an argument the diameter of the cells. Looking at some images and rounding up works fairly well to start.\r\n",
    "# If you're not sure and want to test a few options, use the test_nuclear_segmentation.ipynb notebook.\r\n",
    "\r\n",
    "diameter = 100"
   ]
  },
  {
   "cell_type": "code",
   "execution_count": null,
   "metadata": {},
   "outputs": [],
   "source": [
    "# Maximum projections!\r\n",
    "GenerateAllMaximumProjectionsJob(source_images, MIP_directory).run()"
   ]
  },
  {
   "cell_type": "code",
   "execution_count": null,
   "metadata": {},
   "outputs": [],
   "source": [
    "# Nuclear segmentations!\r\n",
    "GenerateAllNuclearSegmentationsJob(MIP_directory, nuclear_segmentations_directory, diameter).run()"
   ]
  },
  {
   "cell_type": "code",
   "execution_count": null,
   "metadata": {},
   "outputs": [],
   "source": [
    "# Crop nuclear segmentations for individual nuclear masks!\r\n",
    "GenerateAllNuclearMasksJob(nuclear_segmentations_directory, nuclear_masks_directory).run()"
   ]
  },
  {
   "cell_type": "code",
   "execution_count": null,
   "metadata": {},
   "outputs": [],
   "source": [
    "# Calculate distance transform for radial position!\r\n",
    "GenerateAllDistanceTransformsJob(nuclear_masks_directory, distance_transforms_directory).run()"
   ]
  },
  {
   "cell_type": "code",
   "execution_count": null,
   "metadata": {},
   "outputs": [],
   "source": [
    "# Crop cell images using nuclear masks!\r\n",
    "GenerateAllCroppedCellImagesJob(MIP_directory, nuclear_masks_directory, cell_crops_directory).run()"
   ]
  }
 ],
 "metadata": {
  "kernelspec": {
   "display_name": "Python 3.8.7 64-bit ('elizabeth-pipeline': pipenv)",
   "metadata": {
    "interpreter": {
     "hash": "0c0b84edaa8c233f8e029e868392f10e840528a102e92ecf094fbed9b27fbfeb"
    }
   },
   "name": "python3"
  },
  "language_info": {
   "codemirror_mode": {
    "name": "ipython",
    "version": 3
   },
   "file_extension": ".py",
   "mimetype": "text/x-python",
   "name": "python",
   "nbconvert_exporter": "python",
   "pygments_lexer": "ipython3",
   "version": "3.8.7"
  },
  "orig_nbformat": 2
 },
 "nbformat": 4,
 "nbformat_minor": 2
}