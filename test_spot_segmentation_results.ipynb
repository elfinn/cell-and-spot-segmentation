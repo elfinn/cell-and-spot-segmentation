{
 "cells": [
  {
   "cell_type": "code",
   "execution_count": null,
   "metadata": {},
   "outputs": [],
   "source": [
    "#import some tools that we will use\n",
    "import json\n",
    "import skimage.io\n",
    "import skimage.measure\n",
    "import skimage.feature\n",
    "import skimage.segmentation\n",
    "from skimage.morphology import disk\n",
    "import scipy.ndimage\n",
    "import numpy\n",
    "import matplotlib.pyplot as plt\n",
    "from generate_spot_positions import GenerateSpotPositionsJob\n",
    "from models.image_filename_glob import ImageFilenameGlob\n",
    "from models.generate_spot_positions_config import GenerateSpotPositionsConfig\n",
    "import csv\n",
    "import scipy.ndimage\n",
    "from pathlib import Path"
   ]
  },
  {
   "cell_type": "code",
   "execution_count": null,
   "metadata": {},
   "outputs": [],
   "source": [
    "#define paths to images\n",
    "image_folder = \"C:\\\\Users\\\\finne\\\\Documents\\\\python\\\\dropbox_test\\\\cell_crops\\\\\"\n",
    "# image_folder = \"/Users/kevin/Desktop/fast_pipeline_output_again_with_zero_adjustment/cropped_cell_images\"\n",
    "\n",
    "well_ID = \"B02\"\n",
    "field_ID = 2\n",
    "channel_ID = 3\n",
    "\n",
    "# Find 10 random nuclei\n",
    "image_path = Path(image_folder)\n",
    "\n",
    "image_filename_glob = image_path.glob(str(ImageFilenameGlob(well = well_ID, f = field_ID, c = channel_ID, suffix=\"_maximum_projection_nuclear_mask_???\", extension=\"npy\")))\n",
    "\n",
    "images_selected_random = [next(image_filename_glob) for _ in range(10)]\n",
    "\n",
    "for image_selected in images_selected_random:\n",
    "    print(image_selected)"
   ]
  },
  {
   "cell_type": "code",
   "execution_count": null,
   "metadata": {},
   "outputs": [],
   "source": [
    "# SET PARAMETERS HERE! \n",
    "\n",
    "# Contrast threshold is applied to the laplacian of the gaussian, it is fairly cryptic, so trial and error works best to find a good value.\n",
    "local_contrast_threshold = 3\n",
    "\n",
    "# Peak radius is applied to pre-filter the spots; anything smaller than this will get filtered out, so err on the small side. \n",
    "# It ought to be near the actual radius of the visible spot in pixels, though.\n",
    "peak_radius = 4\n",
    "\n",
    "# Because your images are normalized to 0-1 range in the cell, your spot maxima are set to 1. So this ought to be the inverse of your overall signal:noise ratio\n",
    "# Counterintuitively, better FISH -> lower threshold here -> less filtering taking place on the actual image\n",
    "global_contrast_threshold = 0.3\n",
    "\n",
    "segmenters = [GenerateSpotPositionsJob(image, \"no_output\", local_contrast_threshold, peak_radius, global_contrast_threshold) for image in images_selected_random]"
   ]
  },
  {
   "cell_type": "code",
   "execution_count": null,
   "metadata": {},
   "outputs": [],
   "source": [
    "# display image and found spots -- these coordinates (+ offset) can be used to look up precalculated z-position and radial position. \n",
    "fig, axs = plt.subplots(2,5)\n",
    "\n",
    "for i in range(0,10):\n",
    "    ax = axs[i//5, i%5]\n",
    "    ax.imshow(segmenters[i].image)\n",
    "    ax.get_xaxis().set_visible(False)\n",
    "    ax.get_yaxis().set_visible(False)\n",
    "    for spot in segmenters[i].spots:\n",
    "        circle=plt.Circle((spot[1], spot[0]), 7, color='r', alpha=0.3)\n",
    "        ax.add_patch(circle)\n",
    "\n",
    "fig.set_size_inches(15,7)\n",
    "fig.canvas.draw()"
   ]
  },
  {
   "cell_type": "code",
   "execution_count": null,
   "metadata": {},
   "outputs": [],
   "source": [
    "# read in config file into hash\n",
    "# change hash as needed to reflect parameters above\n",
    "# overwrite config file with new values\n",
    "\n",
    "config_file = \"C:\\\\Users\\\\finne\\\\Documents\\\\python\\\\dropbox_test\\\\spot_seg_config.json\"\n",
    "# config_file = \"/Users/kevin/Desktop/spot_seg_config.json\"\n",
    "config_file_path = Path(config_file)\n",
    "\n",
    "existing_generate_spot_positions_configs = []\n",
    "if config_file_path.exists():\n",
    "    with open(config_file_path) as json_file:\n",
    "        existing_generate_spot_positions_configs_json_params = json.load(json_file)\n",
    "        existing_generate_spot_positions_configs = [\n",
    "            GenerateSpotPositionsConfig.from_json_params(json_params)\n",
    "            for json_params\n",
    "            in existing_generate_spot_positions_configs_json_params\n",
    "        ]\n",
    "\n",
    "current_generate_spot_positions_config = GenerateSpotPositionsConfig(\n",
    "    channel=channel_ID,\n",
    "    local_contrast_threshold=local_contrast_threshold,\n",
    "    peak_radius=peak_radius,\n",
    "    global_contrast_threshold=global_contrast_threshold\n",
    ")\n",
    "\n",
    "updated_generate_spot_positions_configs = [\n",
    "    current_generate_spot_positions_config,\n",
    "    *(\n",
    "        existing_generate_spot_positions_config\n",
    "        for existing_generate_spot_positions_config\n",
    "        in existing_generate_spot_positions_configs\n",
    "        if existing_generate_spot_positions_config.channel != current_generate_spot_positions_config.channel\n",
    "    )\n",
    "]\n",
    "\n",
    "updated_generate_spot_positions_configs_json_params = [config.to_json_params() for config in updated_generate_spot_positions_configs]\n",
    "with open(config_file_path, 'w') as write_file:\n",
    "    json.dump(updated_generate_spot_positions_configs_json_params, write_file)\n"
   ]
  },
  {
   "cell_type": "code",
   "execution_count": null,
   "metadata": {},
   "outputs": [],
   "source": []
  }
 ],
 "metadata": {
  "kernelspec": {
   "display_name": "Python 3",
   "name": "python3",
   "language": "python"
  },
  "language_info": {
   "codemirror_mode": {
    "name": "ipython",
    "version": 3
   },
   "file_extension": ".py",
   "mimetype": "text/x-python",
   "name": "python",
   "nbconvert_exporter": "python",
   "pygments_lexer": "ipython3",
   "version": "3.8.2-final"
  },
  "orig_nbformat": 2
 },
 "nbformat": 4,
 "nbformat_minor": 2
}