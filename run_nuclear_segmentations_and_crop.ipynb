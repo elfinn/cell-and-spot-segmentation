{
 "cells": [
  {
   "cell_type": "code",
   "execution_count": null,
   "metadata": {},
   "outputs": [],
   "source": [
    "from models.swarm_job import SwarmJob, RunStrategy\r\n",
    "import generate_all_maximum_projections"
   ]
  },
  {
   "cell_type": "code",
   "execution_count": null,
   "metadata": {},
   "outputs": [],
   "source": [
    "# Set strategy here -- \"RunStrategy.SWARM\" is running on Biowulf/with swarm in parallel, \"RunStrategy.LOCAL\" is testing a single well/image without parallelization\r\n",
    "\r\n",
    "SwarmJob.run_strategy = RunStrategy.LOCAL"
   ]
  },
  {
   "cell_type": "code",
   "execution_count": null,
   "metadata": {},
   "outputs": [],
   "source": [
    "# Set your file system variables here\r\n",
    "\r\n",
    "source_images = \"C:\\\\Users\\\\finne\\\\tktktk\"\r\n",
    "results_directory = Path(\"C:\\\\Users\\\\finne\\\\tktktk\\\\something_else\")\r\n",
    "MIP_directory = # add MIP to results directory\r\n"
   ]
  },
  {
   "cell_type": "code",
   "execution_count": null,
   "metadata": {},
   "outputs": [],
   "source": [
    "# Maximum projections!\r\n",
    "GenerateAllMaximumProjectionsJob(source_images, maxproj_zcenters_dir).run()"
   ]
  }
 ],
 "metadata": {
  "kernelspec": {
   "display_name": "Python 3.8.7 64-bit ('elizabeth-pipeline': pipenv)",
   "metadata": {
    "interpreter": {
     "hash": "0c0b84edaa8c233f8e029e868392f10e840528a102e92ecf094fbed9b27fbfeb"
    }
   },
   "name": "python3"
  },
  "language_info": {
   "name": "python",
   "nbconvert_exporter": "python",
   "version": "3.8.7-final"
  },
  "orig_nbformat": 2
 },
 "nbformat": 4,
 "nbformat_minor": 2
}