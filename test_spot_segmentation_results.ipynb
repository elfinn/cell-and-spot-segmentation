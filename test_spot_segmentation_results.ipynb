{
 "cells": [
  {
   "cell_type": "code",
   "execution_count": null,
   "metadata": {},
   "outputs": [],
   "source": [
    "#import some tools that we will use\r\n",
    "import skimage.io\r\n",
    "import skimage.measure\r\n",
    "import skimage.feature\r\n",
    "import skimage.segmentation\r\n",
    "from skimage.morphology import disk\r\n",
    "import scipy.ndimage\r\n",
    "import numpy\r\n",
    "import matplotlib.pyplot as plt\r\n",
    "from generate_spot_positions import GenerateSpotPositionsJob\r\n",
    "from models.image_filename_glob import ImageFilenameGlob\r\n",
    "\r\n",
    "import scipy.ndimage\r\n",
    "from pathlib import Path"
   ]
  },
  {
   "cell_type": "code",
   "execution_count": null,
   "metadata": {},
   "outputs": [],
   "source": [
    "#define paths to images\r\n",
    "image_folder = \"C:\\\\Users\\\\finne\\\\Documents\\\\python\\\\Biowulf_Test_Data\\\\cropped_cell_images\"\r\n",
    "\r\n",
    "# Image_path = \"/Users/kevin/Desktop/generate_all_cropped_cell_images_output/Plate1_12-30-20_18-38-45_B02_T0001F002L01A02ZXXC03_cropped_117.npy\"\r\n",
    "\r\n",
    "well_ID = \"O06\"\r\n",
    "field_ID = 3\r\n",
    "channel_ID = 3\r\n",
    "\r\n",
    "# Find 10 random nuclei\r\n",
    "image_path = Path(image_folder)\r\n",
    "\r\n",
    "image_filename_glob = image_path.glob(str(ImageFilenameGlob(well = well_ID, f = field_ID, c = channel_ID, suffix=\"_maximum_projection_nuclear_mask_???\", extension=\"npy\")))\r\n",
    "\r\n",
    "images_selected_random = [next(image_filename_glob) for _ in range(5)]\r\n",
    "\r\n",
    "for image_selected in images_selected_random:\r\n",
    "    print(image_selected)"
   ]
  },
  {
   "cell_type": "code",
   "execution_count": null,
   "metadata": {},
   "outputs": [],
   "source": [
    "# SET CONTRAST THRESHOLD HERE:\r\n",
    "contrast_threshold = 2.5\r\n",
    "\r\n",
    "segmenters = [GenerateSpotPositionsJob(image, \"no_output\", contrast_threshold) for image in images_selected_random]"
   ]
  },
  {
   "cell_type": "code",
   "execution_count": null,
   "metadata": {},
   "outputs": [],
   "source": [
    "# display image and found spots -- these coordinates (+ offset) can be used to look up precalculated z-position and radial position. \r\n",
    "fig, axs = plt.subplots(1,5)\r\n",
    "\r\n",
    "for i, ax in enumerate(axs):\r\n",
    "    ax.imshow(segmenters[i].image)\r\n",
    "    ax.get_xaxis().set_visible(False)\r\n",
    "    ax.get_yaxis().set_visible(False)\r\n",
    "    for spot in segmenters[i].spots:\r\n",
    "        circle=plt.Circle((spot[1], spot[0]), 7, color='r', alpha=0.3)\r\n",
    "        ax.add_patch(circle)\r\n",
    "\r\n",
    "fig.show()"
   ]
  },
  {
   "cell_type": "code",
   "execution_count": null,
   "metadata": {},
   "outputs": [],
   "source": [
    "# read in config file into hash\r\n",
    "# change hash as needed to reflect parameters above\r\n",
    "# overwrite config file with new values"
   ]
  }
 ],
 "metadata": {
  "kernelspec": {
   "display_name": "Python 3.8.7 64-bit ('elizabeth-pipeline-lpJOCUlQ': pipenv)",
   "metadata": {
    "interpreter": {
     "hash": "0c0b84edaa8c233f8e029e868392f10e840528a102e92ecf094fbed9b27fbfeb"
    }
   },
   "name": "python3"
  },
  "language_info": {
   "codemirror_mode": {
    "name": "ipython",
    "version": 3
   },
   "file_extension": ".py",
   "mimetype": "text/x-python",
   "name": "python",
   "nbconvert_exporter": "python",
   "pygments_lexer": "ipython3",
   "version": "3.8.7"
  },
  "orig_nbformat": 2
 },
 "nbformat": 4,
 "nbformat_minor": 2
}